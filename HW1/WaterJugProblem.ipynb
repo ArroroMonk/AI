{
  "nbformat": 4,
  "nbformat_minor": 0,
  "metadata": {
    "colab": {
      "provenance": [],
      "authorship_tag": "ABX9TyOnxsNPIWAmUcUrHO2mnayi",
      "include_colab_link": true
    },
    "kernelspec": {
      "name": "python3",
      "display_name": "Python 3"
    },
    "language_info": {
      "name": "python"
    }
  },
  "cells": [
    {
      "cell_type": "markdown",
      "metadata": {
        "id": "view-in-github",
        "colab_type": "text"
      },
      "source": [
        "<a href=\"https://colab.research.google.com/github/ArroroMonk/AI/blob/main/WaterJugProblem.ipynb\" target=\"_parent\"><img src=\"https://colab.research.google.com/assets/colab-badge.svg\" alt=\"Open In Colab\"/></a>"
      ]
    },
    {
      "cell_type": "code",
      "execution_count": null,
      "metadata": {
        "id": "qjqP5-VjYZVV"
      },
      "outputs": [],
      "source": [
        "# Two jugs\n",
        "# A five litre\n",
        "# A three litre\n",
        "# Fill and empty jugs as much as possible\n",
        "# Goal: have exactly four litres in the 5 litre jug\n",
        "\n",
        "class WaterJugPuzzle():\n",
        "  def __init__(self):\n",
        "    self.five_litre = 0 #five_litre will be the 5 litre jug\n",
        "    self.three_litre = 0 #three_litre will be the 3 litre jug\n",
        "\n",
        "  #checking to see if either jug is full\n",
        "  def is_five_litre_full(self):\n",
        "    if self.five_litre == 5:\n",
        "      return True\n",
        "\n",
        "  def is_three_litre_full(self):\n",
        "    if self.three_litre == 3:\n",
        "      return True\n",
        "\n",
        "  #checking for illegal conditions\n",
        "  #cannot fill over 5 litres\n",
        "  def is_five_litre_overfilled(self):\n",
        "    if self.five_litre > 5:\n",
        "      return False\n",
        "\n",
        "  #cannot fill over 3 litres\n",
        "  def is_three_litre_overfilled(self):\n",
        "    if self.three_litre > 3:\n",
        "      return False\n",
        "\n",
        "  #cannot empty an already empty jug\n",
        "  def is_five_litre_empty(self):\n",
        "    if self.five_litre == 0:\n",
        "      return True\n",
        "\n",
        "  #cannot empty an already empty jug\n",
        "  def is_three_liter_empty(self):\n",
        "    if self.three_litre == 0:\n",
        "      return True\n",
        "\n",
        "  #All functions that can be performed with the jug\n",
        "  def fill_five_litre(self):\n",
        "    self.five_litre = 5\n",
        "\n",
        "  def fill_three_litre(self):\n",
        "    self.three_litre = 3\n",
        "\n",
        "  def empty_five_litre(self):\n",
        "    self.five_litre = 0\n",
        "\n",
        "  def empty_three_litre(self):\n",
        "    self.three_litre = 0\n",
        "\n",
        "  #fill the three litre jug from the five litre jug\n",
        "  def fill_three_from_five(self):\n",
        "    if not self.is_three_litre_full() and not self.is_five_litre_empty():\n",
        "      five_place = self.five_litre - (min(3, self.five_litre + self.three_litre) - self.three_litre) # checking for min of either the jug or the jug capacity\n",
        "      three_place = min(3, self.five_litre + self.three_litre) # checking for min of either the jug or the jug capacity\n",
        "      self.five_litre = five_place\n",
        "      self.three_litre = three_place\n",
        "    else: # if the five litre is empty and the three litre is full\n",
        "      print(\"Three Litre jug is full\")\n",
        "\n",
        "  #fill the five litre jug from the three litre jug\n",
        "  def fill_five_from_three(self):\n",
        "    if not self.is_five_litre_full() and not self.is_three_litre_empty():\n",
        "      five_place = min(5, self.five_litre + self.three_litre) # checking for min of either the jug or the jug capacity\n",
        "      three_place = self.three_litre - (min(5, self.five_litre + self.three_litre) - self.five_litre) # checking for min of either the jug or the jug capacity\n",
        "      self.five_litre = five_place\n",
        "      self.three_litre = three_place\n",
        "    else: # if the three litre is empty an the five litre is full\n",
        "      print(\"Five Litre jug is full\")\n",
        "\n",
        "  def print_state(self):\n",
        "    print(\"Five Litre jug: {s}, Three Litre jug: {h}\".format(s=self.five_litre, h=self.three_litre))\n",
        "\n",
        "\n"
      ]
    },
    {
      "cell_type": "code",
      "source": [
        "wjp = WaterJugPuzzle()\n",
        "\n",
        "wjp.fill_five_litre()\n",
        "wjp.print_state()\n",
        "\n",
        "wjp.fill_three_from_five()\n",
        "wjp.print_state()\n",
        "\n",
        "wjp.empty_three_litre()\n",
        "wjp.print_state()\n",
        "\n",
        "wjp.fill_three_from_five()\n",
        "wjp.print_state()\n",
        "\n",
        "wjp.fill_five_litre()\n",
        "wjp.print_state()\n",
        "wjp.fill_three_from_five()\n",
        "wjp.print_state()\n",
        "\n"
      ],
      "metadata": {
        "colab": {
          "base_uri": "https://localhost:8080/"
        },
        "id": "D2apjLkia_YY",
        "outputId": "63ff2064-1716-49ac-af00-b13173d75c9a"
      },
      "execution_count": null,
      "outputs": [
        {
          "output_type": "stream",
          "name": "stdout",
          "text": [
            "Five Litre jug: 5, Three Litre jug: 0\n",
            "Five Litre jug: 2, Three Litre jug: 3\n",
            "Five Litre jug: 2, Three Litre jug: 0\n",
            "Five Litre jug: 0, Three Litre jug: 2\n",
            "Five Litre jug: 5, Three Litre jug: 2\n",
            "Five Litre jug: 4, Three Litre jug: 3\n"
          ]
        }
      ]
    }
  ]
}
