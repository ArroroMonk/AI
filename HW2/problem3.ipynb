{
  "nbformat": 4,
  "nbformat_minor": 0,
  "metadata": {
    "colab": {
      "provenance": [],
      "authorship_tag": "ABX9TyMs7zKGgAdqG6FsiZBfC38r",
      "include_colab_link": true
    },
    "kernelspec": {
      "name": "python3",
      "display_name": "Python 3"
    },
    "language_info": {
      "name": "python"
    }
  },
  "cells": [
    {
      "cell_type": "markdown",
      "metadata": {
        "id": "view-in-github",
        "colab_type": "text"
      },
      "source": [
        "<a href=\"https://colab.research.google.com/github/ArroroMonk/AI/blob/main/HW2/problem3.ipynb\" target=\"_parent\"><img src=\"https://colab.research.google.com/assets/colab-badge.svg\" alt=\"Open In Colab\"/></a>"
      ]
    },
    {
      "cell_type": "markdown",
      "source": [
        "Name: Paul Anderson\n",
        "\n",
        "Date: 24 September 2025\n",
        "\n",
        "Purpose: Create a DFS algorithm that can find if a goal is reachable or not"
      ],
      "metadata": {
        "id": "KCY2lBIcmL1f"
      }
    },
    {
      "cell_type": "code",
      "execution_count": 17,
      "metadata": {
        "id": "GNayvRWfmIcF"
      },
      "outputs": [],
      "source": [
        "from collections import deque\n",
        "\n",
        "\n",
        "# Function finding if a goal is reachable\n",
        "# G is the graph list\n",
        "# Start is the beginning coordinate\n",
        "# End is the end coordinate\n",
        "def goalIsReachable(G, Start, End):\n",
        "\n",
        "    # Deque is list-like container with fast appends and pops on either end\n",
        "    visited, queue = set(), deque([Start])\n",
        "    visited.add(Start)\n",
        "    isReached = False\n",
        "\n",
        "    # Keep exploring as long as the queue is not empty\n",
        "    while queue:\n",
        "\n",
        "        # Dequeue a vertex from queue\n",
        "        vertex = queue.pop()\n",
        "\n",
        "        # Checking to see if the current node (coordinate) is the end\n",
        "        if vertex == End:\n",
        "            # If it is set a bool to true and break out of the loop\n",
        "            print(\"SUCCESS\")\n",
        "            isReached = True\n",
        "            break\n",
        "\n",
        "        # If not visited, mark the node as visited and enqueue it\n",
        "        # Use reversed() to enforce left-to-right ordering\n",
        "\n",
        "        for neighbor in reversed(G[vertex]):\n",
        "            if neighbor not in visited:\n",
        "                visited.add(neighbor)\n",
        "                queue.append(neighbor)\n",
        "\n",
        "    # If exiting the loop and there is no end found, print failure\n",
        "    if(isReached == False):\n",
        "      print(\"FAILURE\")"
      ]
    },
    {
      "cell_type": "code",
      "source": [
        "\n",
        "# Graphing by coordinates\n",
        "G1 = {\n",
        "    (1,1) : [(2,1), (1,2)],\n",
        "    (1,2) : [(1,1), (1,3)],\n",
        "    (1,3) : [(1,2), (2,3)],\n",
        "    (2,3) : [(2,2), (1,3)],\n",
        "    (2,2) : [(2,3)],\n",
        "    (2,1) : [(1,1), (3,1)],\n",
        "    (3,1) : [(2,1), (3,2)],\n",
        "    (3,2) : [(3,1), (4,2)],\n",
        "    (4,2) : [(4,1), (3,2), (4,3)],\n",
        "    (4,3) : [(4,2), (3,3)],\n",
        "    (3,3) : [(4,3), (3,4)],\n",
        "    (4,1) : [(4,2), (5,1)],\n",
        "    (5,1) : [(4,1), (5,2)],\n",
        "    (5,2) : [(5,1), (5,3)],\n",
        "    (5,3) : [(5,2), (5,4)],\n",
        "    (5,4) : [(5,3), (4,4)],\n",
        "    (4,4) : [(5,4), (4,5)],\n",
        "    (4,5) : [(4,4), (5,5), (3,5)],\n",
        "    (5,5) : [(4,5), (5,6)],\n",
        "    (5,6) : [(5,5)],\n",
        "    (3,5) : [(4,5), (3,6), (2,5)],\n",
        "    (3,6) : [(3,5), (4,6)],\n",
        "    (4,6) : [(3,6), (4,7)],\n",
        "    (4,7) : [(4,6)],\n",
        "    (2,5) : [(3,5), (2,4)],\n",
        "    (2,4) : [(2,5), (1,4)],\n",
        "    (1,4) : [(2,4), (1,5)],\n",
        "    (1,5) : [(1,4), (1,6)],\n",
        "    (1,6) : [(1,5), (2,6)],\n",
        "    (2,6) : [(1,6), (2,7)],\n",
        "    (2,7) : [(2,6), (1,7), (3,7)],\n",
        "    (3,7) : [(2,7), (3,8)],\n",
        "    (3,8) : [(3,7), (2,8)],\n",
        "    (1,7) : [(2,7), (1,8)],\n",
        "    (1,8) : [(1,7), (1,9)],\n",
        "    (1,9) : [(1,8), (1,10)],\n",
        "    (1,10) : [(1,9), (2,10)],\n",
        "    (2,10) : [(1,10), (2,9)],\n",
        "    (2,9) : [(2,10), (3,9)],\n",
        "    (3,9) : [(2,9), (4,9)],\n",
        "    (4,9) : [(3,9), (4,10), (4,8)],\n",
        "    (4,10) : [(4,9), (3,10)],\n",
        "    (3,10) : [(4,10)],\n",
        "    (4,8) : [(4,9), (5,8)],\n",
        "    (5,8) : [(4,8), (5,7), (5,9)],\n",
        "    (5,7) : [(5,8)],\n",
        "    (5,9) : [(5,8), (5,10)],\n",
        "    (5,10) : [(5,9), (6,10)] # 6,10 is the end coordinate\n",
        "}\n",
        "\n",
        "print(\"The first mase: \", end=\" \")\n",
        "goalIsReachable(G1, (1,1), (6,10))\n",
        "\n",
        "\n",
        "G2 = {\n",
        "    (1,1) : [(2,1), (1,2)],\n",
        "    (1,2) : [(1,1), (1,3)],\n",
        "    (1,3) : [(1,2), (2,3)],\n",
        "    (2,3) : [(2,2), (1,3)],\n",
        "    (2,2) : [(2,3)],\n",
        "    (2,1) : [(1,1), (3,1)],\n",
        "    (3,1) : [(2,1), (3,2)],\n",
        "    (3,2) : [(3,1)],\n",
        "    (4,2) : [(4,1), (4,3)],\n",
        "    (4,3) : [(4,2), (3,3)],\n",
        "    (3,3) : [(4,3), (3,4)],\n",
        "    (4,1) : [(4,2), (5,1)],\n",
        "    (5,1) : [(4,1), (5,2)],\n",
        "    (5,2) : [(5,1), (5,3)],\n",
        "    (5,3) : [(5,2), (5,4)],\n",
        "    (5,4) : [(5,3), (4,4)],\n",
        "    (4,4) : [(5,4), (4,5)],\n",
        "    (4,5) : [(4,4), (5,5), (3,5)],\n",
        "    (5,5) : [(4,5), (5,6)],\n",
        "    (5,6) : [(5,5)],\n",
        "    (3,5) : [(4,5), (3,6), (2,5)],\n",
        "    (3,6) : [(3,5), (4,6)],\n",
        "    (4,6) : [(3,6), (4,7)],\n",
        "    (4,7) : [(4,6)],\n",
        "    (2,5) : [(3,5), (2,4)],\n",
        "    (2,4) : [(2,5), (1,4)],\n",
        "    (1,4) : [(2,4), (1,5)],\n",
        "    (1,5) : [(1,4), (1,6)],\n",
        "    (1,6) : [(1,5), (2,6)],\n",
        "    (2,6) : [(1,6), (2,7)],\n",
        "    (2,7) : [(2,6), (1,7), (3,7)],\n",
        "    (3,7) : [(2,7), (3,8)],\n",
        "    (3,8) : [(3,7), (2,8)],\n",
        "    (1,7) : [(2,7), (1,8)],\n",
        "    (1,8) : [(1,7), (1,9)],\n",
        "    (1,9) : [(1,8), (1,10)],\n",
        "    (1,10) : [(1,9), (2,10)],\n",
        "    (2,10) : [(1,10), (2,9)],\n",
        "    (2,9) : [(2,10), (3,9)],\n",
        "    (3,9) : [(2,9), (4,9)],\n",
        "    (4,9) : [(3,9), (4,10), (4,8)],\n",
        "    (4,10) : [(4,9), (3,10)],\n",
        "    (3,10) : [(4,10)],\n",
        "    (4,8) : [(4,9), (5,8)],\n",
        "    (5,8) : [(4,8), (5,7), (5,9)],\n",
        "    (5,7) : [(5,8)],\n",
        "    (5,9) : [(5,8), (5,10)],\n",
        "    (5,10) : [(5,9), (6,10)] # 6,10 is the end coordinate\n",
        "}\n",
        "print(\"The second maze: \", end=\"\")\n",
        "goalIsReachable(G2, (1,1), (6,10))"
      ],
      "metadata": {
        "colab": {
          "base_uri": "https://localhost:8080/"
        },
        "id": "vF1VN_52nAdV",
        "outputId": "d24c39d3-41cb-4b78-faf5-31e8c8db32a3"
      },
      "execution_count": 18,
      "outputs": [
        {
          "output_type": "stream",
          "name": "stdout",
          "text": [
            "The first mase:  SUCCESS\n",
            "The second maze: FAILURE\n"
          ]
        }
      ]
    }
  ]
}