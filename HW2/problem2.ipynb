{
  "nbformat": 4,
  "nbformat_minor": 0,
  "metadata": {
    "colab": {
      "provenance": [],
      "authorship_tag": "ABX9TyMWa/bZzKHS6m2W/nrRXlyT",
      "include_colab_link": true
    },
    "kernelspec": {
      "name": "python3",
      "display_name": "Python 3"
    },
    "language_info": {
      "name": "python"
    }
  },
  "cells": [
    {
      "cell_type": "markdown",
      "metadata": {
        "id": "view-in-github",
        "colab_type": "text"
      },
      "source": [
        "<a href=\"https://colab.research.google.com/github/ArroroMonk/AI/blob/main/HW2/problem2.ipynb\" target=\"_parent\"><img src=\"https://colab.research.google.com/assets/colab-badge.svg\" alt=\"Open In Colab\"/></a>"
      ]
    },
    {
      "cell_type": "markdown",
      "source": [
        "Name: Paul Anderson\n",
        "\n",
        "Date: 24 September 2025\n",
        "\n",
        "Purpose: Find potentially missing immediate connections in the network"
      ],
      "metadata": {
        "id": "uTx-_hl9Tmlu"
      }
    },
    {
      "cell_type": "code",
      "execution_count": 43,
      "metadata": {
        "id": "vH3U45osTlbh"
      },
      "outputs": [],
      "source": [
        "from collections import deque\n",
        "\n",
        "\n",
        "def PotentialFriends(G, User):\n",
        "\n",
        "  # Setting up queue and visited queues\n",
        "  visited, queue = set(), deque([User])\n",
        "  visited.add(User)\n",
        "\n",
        "  # Creating two queues to hold direct neighbors/contacts and non direct neighbors/contacts\n",
        "  directNeighbor = set()\n",
        "  notDirectNeighbor = set()\n",
        "\n",
        "\n",
        "  # Pops out the User out and ends to the direct neighbor list\n",
        "  queue.popleft()\n",
        "  directNeighbor.add(User)\n",
        "\n",
        "  # This for loop iterates through all nodes that would be considered direct contacts of the User\n",
        "  for neighbor in G[User]:\n",
        "    directNeighbor.add(neighbor)\n",
        "    if neighbor not in visited:\n",
        "      # Add neighboring vertex into the visited list\n",
        "      visited.add(neighbor)\n",
        "\n",
        "      # Add neighbor to queue\n",
        "      queue.append(neighbor)\n",
        "\n",
        "  # While there are more nodes in queue, keep going\n",
        "  while queue:\n",
        "    vertex = queue.popleft()\n",
        "\n",
        "    # Interate through all of the nodes connected to current vertex/node\n",
        "    for neighbor in G[vertex]:\n",
        "        # Add neighbor to the notDirectNeighbor queue\n",
        "        notDirectNeighbor.add(neighbor)\n",
        "        if neighbor not in visited:\n",
        "        # Add neighboring vertex into the visited queue\n",
        "          visited.add(neighbor)\n",
        "\n",
        "        #add neighbor to queue\n",
        "          queue.append(neighbor)\n",
        "\n",
        "  # Iterate through notDirectNeighbor queue and\n",
        "  #  printing users that are only in the notDirectNeighbor list\n",
        "  for people in notDirectNeighbor:\n",
        "    if people not in directNeighbor:\n",
        "      print(people, end = \" \")\n"
      ]
    },
    {
      "cell_type": "code",
      "source": [
        "G= {\n",
        "    \"Adam\" : [\"Maria\"],\n",
        "    \"Maria\" : [\"Adam\", \"Maya\", \"Sophia\", \"David\"],\n",
        "    \"Sophia\" : [\"Maria\", \"Maya\"],\n",
        "    \"Maya\" : [\"Maria\", \"Sophia\", \"David\"],\n",
        "    \"David\" : [\"Maria\", \"Maya\"]\n",
        "}\n",
        "\n",
        "PotentialFriends(G, \"Adam\")\n",
        "print()\n",
        "PotentialFriends(G, \"David\")\n",
        "print()\n",
        "PotentialFriends(G, \"Sophia\")"
      ],
      "metadata": {
        "colab": {
          "base_uri": "https://localhost:8080/"
        },
        "id": "Zs1Ch_wbUcnf",
        "outputId": "18992567-0f11-4bac-deea-fc68631d5e74"
      },
      "execution_count": 44,
      "outputs": [
        {
          "output_type": "stream",
          "name": "stdout",
          "text": [
            "Maya David Sophia \n",
            "Adam Sophia \n",
            "David Adam "
          ]
        }
      ]
    }
  ]
}