{
  "nbformat": 4,
  "nbformat_minor": 0,
  "metadata": {
    "colab": {
      "provenance": [],
      "authorship_tag": "ABX9TyMm5W9+BY0MhsP4m1sCeZJ5",
      "include_colab_link": true
    },
    "kernelspec": {
      "name": "python3",
      "display_name": "Python 3"
    },
    "language_info": {
      "name": "python"
    }
  },
  "cells": [
    {
      "cell_type": "markdown",
      "metadata": {
        "id": "view-in-github",
        "colab_type": "text"
      },
      "source": [
        "<a href=\"https://colab.research.google.com/github/ArroroMonk/AI/blob/main/HW2/problem1.ipynb\" target=\"_parent\"><img src=\"https://colab.research.google.com/assets/colab-badge.svg\" alt=\"Open In Colab\"/></a>"
      ]
    },
    {
      "cell_type": "markdown",
      "source": [
        "Author: Paul Anderson\n",
        "\n",
        "Date: 09 September 2025\n",
        "\n",
        "Purpose: Find k level friends given a user and a graph"
      ],
      "metadata": {
        "id": "ignbEJSlDGuL"
      }
    },
    {
      "cell_type": "code",
      "execution_count": 123,
      "metadata": {
        "id": "8QqMsTEqC-7Q"
      },
      "outputs": [],
      "source": [
        "#breadth first search algorithm\n",
        "\n",
        "from collections import deque\n",
        "\n",
        "# G is the graph\n",
        "# User is the root\n",
        "# K is the depth you want to find friends at\n",
        "def findFriends(G, User, K):\n",
        "\n",
        "    # Set up a list for visited nodes that also take into account friend level\n",
        "    # Set up the queue for not yet visited nodes\n",
        "    visited, queue = set(), deque([(User, 0)])\n",
        "    visited.add(User)\n",
        "\n",
        "    # Keep exploring as long as the queue is not empty\n",
        "    while queue:\n",
        "\n",
        "        # Dequeue a vertex from queue\n",
        "        # Save friend level as second variable\n",
        "        vertex, level = queue.popleft()\n",
        "\n",
        "        # Check if the friend level of the current friend node is equal to K\n",
        "        if level == K:\n",
        "          print(vertex, end = \" \")\n",
        "\n",
        "        # If not visited, mark it as visited, and enqueue it\n",
        "        # All the neighbors of this particular node (vertex) are scanned here\n",
        "        for neighbor in G[vertex]:\n",
        "            # If the neighbor is not in the visited queue, it will be added\n",
        "            if neighbor not in visited:\n",
        "                visited.add(neighbor)\n",
        "                queue.append((neighbor, level + 1))\n",
        "\n",
        "\n"
      ]
    },
    {
      "cell_type": "code",
      "source": [
        "G = {\n",
        "    \"Richard\" : [\"Bob\"],\n",
        "    \"Bob\" : [\"Richard\", \"Rob\", \"Pam\"],\n",
        "    \"Rob\" : [\"Bob\"],\n",
        "    \"Pam\" : [\"Bob\", \"Roger\", \"Peter\"],\n",
        "    \"Roger\" : [\"Pam\", \"Anna\"],\n",
        "    \"Anna\" : [\"Roger\"],\n",
        "    \"Peter\" : [\"Pam\", \"Amy\"],\n",
        "    \"Amy\" : [\"Peter\"]\n",
        "}\n",
        "\n",
        "findFriends(G, \"Bob\", 3)"
      ],
      "metadata": {
        "colab": {
          "base_uri": "https://localhost:8080/"
        },
        "id": "vh8NHLcJEBIK",
        "outputId": "b06912dd-5efd-4476-863f-6439daa2df31"
      },
      "execution_count": 124,
      "outputs": [
        {
          "output_type": "stream",
          "name": "stdout",
          "text": [
            "Anna Amy "
          ]
        }
      ]
    }
  ]
}